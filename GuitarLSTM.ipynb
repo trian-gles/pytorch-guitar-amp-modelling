{
  "nbformat": 4,
  "nbformat_minor": 0,
  "metadata": {
    "colab": {
      "provenance": [],
      "authorship_tag": "ABX9TyM+jrau3gOADWQbOPm94QTr",
      "include_colab_link": true
    },
    "kernelspec": {
      "name": "python3",
      "display_name": "Python 3"
    },
    "language_info": {
      "name": "python"
    }
  },
  "cells": [
    {
      "cell_type": "markdown",
      "metadata": {
        "id": "view-in-github",
        "colab_type": "text"
      },
      "source": [
        "<a href=\"https://colab.research.google.com/github/trian-gles/pytorch-guitar-amp-modelling/blob/main/GuitarLSTM.ipynb\" target=\"_parent\"><img src=\"https://colab.research.google.com/assets/colab-badge.svg\" alt=\"Open In Colab\"/></a>"
      ]
    },
    {
      "cell_type": "code",
      "execution_count": 1,
      "metadata": {
        "id": "3U-mVRobznMO",
        "colab": {
          "base_uri": "https://localhost:8080/"
        },
        "outputId": "c71dd727-b9b9-415f-d2ab-44f30fce7699"
      },
      "outputs": [
        {
          "output_type": "stream",
          "name": "stdout",
          "text": [
            "Mounted at /content/gdrive/\n"
          ]
        }
      ],
      "source": [
        "import torch\n",
        "from torch import nn\n",
        "import time\n",
        "from scipy.io import wavfile\n",
        "from IPython.display import clear_output\n",
        "try:\n",
        "  import google.colab\n",
        "  IN_COLAB = True\n",
        "except:\n",
        "  IN_COLAB = False\n",
        "\n",
        "if IN_COLAB:\n",
        "    from google.colab import drive\n",
        "    drive.mount('/content/gdrive/', force_remount=True)\n",
        "    import sys"
      ]
    },
    {
      "cell_type": "code",
      "source": [
        "import matplotlib.pyplot as plt"
      ],
      "metadata": {
        "id": "NUGf2DjIOa8k"
      },
      "execution_count": 78,
      "outputs": []
    },
    {
      "cell_type": "code",
      "source": [
        "%cd /content/gdrive/MyDrive/amp-sim-samples/"
      ],
      "metadata": {
        "colab": {
          "base_uri": "https://localhost:8080/"
        },
        "id": "86UrDpsa6D-7",
        "outputId": "ae51cbb8-b090-405b-fa23-1297b8c7c3b2"
      },
      "execution_count": 2,
      "outputs": [
        {
          "output_type": "stream",
          "name": "stdout",
          "text": [
            "/content/gdrive/MyDrive/amp-sim-samples\n"
          ]
        }
      ]
    },
    {
      "cell_type": "markdown",
      "source": [
        "### Pre emphasis filter"
      ],
      "metadata": {
        "id": "fYKYlAiLzyfG"
      }
    },
    {
      "cell_type": "code",
      "source": [
        "filt = torch.nn.Conv1d(1, 1, 2)\n",
        "filt.bias = torch.nn.Parameter(torch.zeros(1))\n",
        "filt.weight = torch.nn.Parameter(torch.tensor([[[-0.95, 1.]]]))\n",
        "\n",
        "pre_filt = torch.nn.Sequential(\n",
        "    torch.nn.ConstantPad1d((1, 0), 0),\n",
        "    filt\n",
        ")"
      ],
      "metadata": {
        "id": "jBwVDYUv17GY"
      },
      "execution_count": 3,
      "outputs": []
    },
    {
      "cell_type": "markdown",
      "source": [
        "### loss fns"
      ],
      "metadata": {
        "id": "3IsePfP2m3e_"
      }
    },
    {
      "cell_type": "code",
      "source": [
        "def esr_loss(y, y_hat):\n",
        "  return torch.sum(torch.square(y - y_hat)) / (torch.sum(torch.square(y)) + 1e-10)\n",
        "\n",
        "def dc_loss(y, y_hat):\n",
        "  return torch.square(torch.mean(y - y_hat)) / torch.mean(torch.square(y) + 1e-10)\n",
        "\n",
        "def combined_loss(y, y_hat):\n",
        "  #print(f\"SHAPES OF Y_HAT : {y_hat.shape} Y : {y.shape}\")\n",
        "  y, y_hat = pre_filt(y), pre_filt(y_hat)\n",
        "  \n",
        "  return esr_loss(y, y_hat) + dc_loss(y, y_hat)"
      ],
      "metadata": {
        "id": "VXm-lVExm1gW"
      },
      "execution_count": 194,
      "outputs": []
    },
    {
      "cell_type": "code",
      "source": [
        "pred = torch.zeros(160).reshape((4, 1, 40)).float()\n",
        "exp = torch.zeros(160).reshape((4, 1, 40)).float() + 0.000001\n",
        "combined_loss(pred, exp)"
      ],
      "metadata": {
        "colab": {
          "base_uri": "https://localhost:8080/"
        },
        "id": "OQ6s9Lif2JuZ",
        "outputId": "2a58a1ac-7729-4a0a-a382-d32cf596ad76"
      },
      "execution_count": 190,
      "outputs": [
        {
          "output_type": "stream",
          "name": "stdout",
          "text": [
            "SHAPES OF Y_HAT : torch.Size([4, 1, 40]) Y : torch.Size([4, 1, 40])\n"
          ]
        },
        {
          "output_type": "execute_result",
          "data": {
            "text/plain": [
              "tensor(0.0440, grad_fn=<AddBackward0>)"
            ]
          },
          "metadata": {},
          "execution_count": 190
        }
      ]
    },
    {
      "cell_type": "markdown",
      "source": [
        "### Training"
      ],
      "metadata": {
        "id": "Koy99BhRz1fE"
      }
    },
    {
      "cell_type": "markdown",
      "source": [
        "#### Hidden state and cell"
      ],
      "metadata": {
        "id": "ZAIupsR4Ers1"
      }
    },
    {
      "cell_type": "code",
      "source": [
        "from torch.autograd.grad_mode import no_grad\n",
        "# Taken from https://discuss.pytorch.org/t/implementing-truncated-backpropagation-through-time/15500/3\n",
        "class TBPTT_CELL():\n",
        "    '''\n",
        "    truncated backprop runner for modules with both hidden and cell states (such as LSTM)\n",
        "    '''\n",
        "    def __init__(self, one_step_module, loss_module, k1, k2, no_grad_steps, optimizer):\n",
        "        self.one_step_module = one_step_module\n",
        "        self.loss_module = loss_module\n",
        "        self.k1 = k1\n",
        "        self.k2 = k2\n",
        "        self.no_grad_steps = no_grad_steps\n",
        "        self.retain_graph = True\n",
        "        # You can also remove all the optimizer code here, and the\n",
        "        # train function will just accumulate all the gradients in\n",
        "        # one_step_module parameters\n",
        "        self.optimizer = optimizer\n",
        "\n",
        "    def train(self, X, y, init_states):\n",
        "        hidden_state, cell_state = init_states\n",
        "        \n",
        "        self.one_step_module.idx = 0\n",
        "        hidden_states = [(None, hidden_state)]\n",
        "        cell_states = [(None, cell_state)]\n",
        "        target_sequence = []\n",
        "        output_sequence = []\n",
        "        #print(f\"Signal shape = {y.shape[-1]}\")\n",
        "        for j in range(y.shape[-1]):\n",
        "            inp = X[:, j].unsqueeze(1).unsqueeze(1)\n",
        "            target = y[:, j].unsqueeze(1).unsqueeze(1)\n",
        "            #print(f\"Input shape = {inp.shape}\")\n",
        "            if (j < self.no_grad_steps):\n",
        "              with torch.no_grad():\n",
        "                self.one_step_module.idx += 1\n",
        "\n",
        "                output, new_states = self.one_step_module(inp, (hidden_state, cell_state))\n",
        "                hidden_state, cell_state = new_states\n",
        "\n",
        "                hidden_states = [(None, hidden_state)]\n",
        "                cell_states = [(None, cell_state)]\n",
        "            else:\n",
        "              hidden_state = hidden_states[-1][1].detach()\n",
        "              cell_state = cell_states[-1][1].detach()\n",
        "\n",
        "\n",
        "              hidden_state.requires_grad=True\n",
        "              cell_state.requires_grad=True\n",
        "\n",
        "              output, new_states = self.one_step_module(inp, (hidden_state, cell_state))\n",
        "              new_hidden, new_cell = new_states\n",
        "\n",
        "              hidden_states.append((hidden_state, new_hidden))\n",
        "              cell_states.append((cell_state, new_cell))\n",
        "              target_sequence.append(target)\n",
        "              output_sequence.append(output)\n",
        "\n",
        "              while len(cell_states) > self.k2:\n",
        "                  # Delete stuff that is too old\n",
        "                  del hidden_states[0]\n",
        "                  del cell_states[0]\n",
        "\n",
        "              if (j+1 + no_grad_steps)%self.k1 == 0:\n",
        "                  loss = self.loss_module(torch.cat(target_sequence, dim=-1), torch.cat(output_sequence, dim=-1))\n",
        "                  print(f\"Backwards step with loss {loss}\")\n",
        "                  optimizer.zero_grad()\n",
        "                  # backprop last module (keep graph only if they ever overlap)\n",
        "                  start = time.time()\n",
        "                  loss.backward(retain_graph=self.retain_graph)\n",
        "                  for i in range(self.k2-1):\n",
        "                      # if we get all the way back to the \"init_state\", stop\n",
        "                      if cell_states[-i-2][0] is None:\n",
        "                          break\n",
        "                      curr_grad_hidden = hidden_states[-i-1][0].grad\n",
        "                      curr_grad_cell = cell_states[-i-1][0].grad\n",
        "\n",
        "                      hidden_states[-i-2][1].backward(curr_grad_hidden, retain_graph=self.retain_graph)\n",
        "                      cell_states[-i-2][1].backward(curr_grad_cell)\n",
        "\n",
        "                  \n",
        "                  target_sequence = []\n",
        "                  output_sequence = []\n",
        "                  optimizer.step()\n",
        "\n",
        "\n",
        "no_grad_steps = 20\n",
        "seq_len = 20000\n",
        "k1 = 3\n",
        "k2 = 3\n",
        "input_size = 1\n",
        "output_size = 1\n",
        "batch_size = 20\n",
        "\n",
        "lstm_blocks = 1\n",
        "\n",
        "idx = 0\n",
        "\n",
        "hidden_size = 96\n",
        "one_step_module = MyMod(hidden_size)\n",
        "loss_module = combined_loss\n",
        "\n",
        "input_sequence = [(torch.ones(batch_size, 1, input_size), torch.zeros(batch_size, 1, output_size))] * seq_len\n",
        "\n",
        "optimizer = torch.optim.SGD(one_step_module.parameters(), lr=1e-3)\n",
        "\n",
        "runner = TBPTT_CELL(one_step_module, loss_module, k1, k2, no_grad_steps, optimizer)\n",
        "\n",
        "#runner.train(input_sequence, (torch.zeros(1, batch_size, hidden_size), torch.zeros(1, batch_size, hidden_size)))\n",
        "print(\"done\")"
      ],
      "metadata": {
        "colab": {
          "base_uri": "https://localhost:8080/"
        },
        "id": "q1_FcnF5EqtV",
        "outputId": "f58abc1d-5b3f-4d7b-f62c-e72ddf4e3b39"
      },
      "execution_count": 192,
      "outputs": [
        {
          "output_type": "stream",
          "name": "stdout",
          "text": [
            "done\n"
          ]
        }
      ]
    },
    {
      "cell_type": "code",
      "source": [
        "def train(one_step_module, loss_module, k1, k2, no_grad_steps, optimizer, train_loader, initial_states, epochs):\n",
        "  runner = TBPTT_CELL(one_step_module, loss_module, k1, k2, no_grad_steps, optimizer)\n",
        "  for j in range(epochs):\n",
        "    print(f\"EPOCH {j}\")\n",
        "    for i, (X, y) in enumerate(train_loader):\n",
        "      print(f\"TRAINING SEQUENCE {i}\")\n",
        "      runner.train(X, y, initial_states)"
      ],
      "metadata": {
        "id": "GIcaeXFn_GIO"
      },
      "execution_count": 65,
      "outputs": []
    },
    {
      "cell_type": "markdown",
      "source": [
        "### Dataloader"
      ],
      "metadata": {
        "id": "q_L6PG4bLEhs"
      }
    },
    {
      "cell_type": "code",
      "source": [
        "class MyDataset(torch.utils.data.Dataset):\n",
        "  '''Takes as input filenames for the raw and processed guitar signal'''\n",
        "  def __init__(self, x_filename, y_filename, seq_len=22050):\n",
        "        'Initialization'\n",
        "        X_np = wavfile.read(x_filename)[1][:, 0]\n",
        "        y_np = wavfile.read(y_filename)[1][:, 0]\n",
        "\n",
        "        X_max = max(abs(X_np))\n",
        "        y_max = max(abs(y_np))\n",
        "        count = len(y_np) // seq_len\n",
        "        effective_size = count * seq_len\n",
        "        self.X_set = torch.tensor(X_np[:effective_size]).reshape(count, seq_len) / X_max\n",
        "        self.y_set = torch.tensor(y_np[:effective_size]).reshape(count, seq_len) / y_max\n",
        "\n",
        "  def __len__(self):\n",
        "        'Denotes the total number of samples'\n",
        "        return self.y_set.shape[0]\n",
        "  def __getitem__(self, index):\n",
        "        'Generates one sample of data'\n",
        "        # Select sample\n",
        "        X = self.X_set[index].float()\n",
        "        y = self.y_set[index].float()\n",
        "        return X, y"
      ],
      "metadata": {
        "id": "SE3t1ew7MCU3"
      },
      "execution_count": 47,
      "outputs": []
    },
    {
      "cell_type": "markdown",
      "source": [
        "### Datasets"
      ],
      "metadata": {
        "id": "R_nITcIY8Ulf"
      }
    },
    {
      "cell_type": "code",
      "source": [
        "BATCHSIZE = 20"
      ],
      "metadata": {
        "id": "mEYSCj3n8W9z"
      },
      "execution_count": 48,
      "outputs": []
    },
    {
      "cell_type": "code",
      "source": [
        "train_dataset = MyDataset(\"amp-sim-train-X.wav\", \"amp-sim-train-y.wav\")\n",
        "train_loader = torch.utils.data.DataLoader(train_dataset, batch_size=BATCHSIZE, shuffle=True)\n",
        "\n",
        "valid_dataset = MyDataset(\"amp-sim-valid-X.wav\", \"amp-sim-valid-y.wav\")\n",
        "valid_loader = torch.utils.data.DataLoader(valid_dataset, batch_size=BATCHSIZE)"
      ],
      "metadata": {
        "colab": {
          "base_uri": "https://localhost:8080/"
        },
        "id": "9OQTrn1C6Y7d",
        "outputId": "d3925ce9-95e7-4292-97c1-e2a1f0ff4daf"
      },
      "execution_count": 49,
      "outputs": [
        {
          "output_type": "stream",
          "name": "stderr",
          "text": [
            "<ipython-input-47-e7cf6d94c59e>:5: WavFileWarning: Chunk (non-data) not understood, skipping it.\n",
            "  X_np = wavfile.read(x_filename)[1][:, 0]\n",
            "<ipython-input-47-e7cf6d94c59e>:6: WavFileWarning: Chunk (non-data) not understood, skipping it.\n",
            "  y_np = wavfile.read(y_filename)[1][:, 0]\n"
          ]
        }
      ]
    },
    {
      "cell_type": "code",
      "source": [
        "for X_train, y_train in train_loader:\n",
        "  print(X_train.shape)\n",
        "  print(y_train.shape)\n",
        "\n",
        "print(X_train.min())"
      ],
      "metadata": {
        "colab": {
          "base_uri": "https://localhost:8080/"
        },
        "id": "Me5y-ytt9UJG",
        "outputId": "2745a116-805b-4fcd-fe85-c0bc6010e3d0"
      },
      "execution_count": 56,
      "outputs": [
        {
          "output_type": "stream",
          "name": "stdout",
          "text": [
            "torch.Size([20, 22050])\n",
            "torch.Size([20, 22050])\n",
            "torch.Size([20, 22050])\n",
            "torch.Size([20, 22050])\n",
            "torch.Size([20, 22050])\n",
            "torch.Size([20, 22050])\n",
            "torch.Size([20, 22050])\n",
            "torch.Size([20, 22050])\n",
            "torch.Size([20, 22050])\n",
            "torch.Size([20, 22050])\n",
            "torch.Size([20, 22050])\n",
            "torch.Size([20, 22050])\n",
            "torch.Size([20, 22050])\n",
            "torch.Size([20, 22050])\n",
            "torch.Size([20, 22050])\n",
            "torch.Size([20, 22050])\n",
            "torch.Size([20, 22050])\n",
            "torch.Size([20, 22050])\n",
            "torch.Size([20, 22050])\n",
            "torch.Size([20, 22050])\n",
            "torch.Size([20, 22050])\n",
            "torch.Size([20, 22050])\n",
            "torch.Size([20, 22050])\n",
            "torch.Size([20, 22050])\n",
            "torch.Size([20, 22050])\n",
            "torch.Size([20, 22050])\n",
            "torch.Size([20, 22050])\n",
            "torch.Size([20, 22050])\n",
            "torch.Size([20, 22050])\n",
            "torch.Size([20, 22050])\n",
            "torch.Size([20, 22050])\n",
            "torch.Size([20, 22050])\n",
            "torch.Size([20, 22050])\n",
            "torch.Size([20, 22050])\n",
            "torch.Size([20, 22050])\n",
            "torch.Size([20, 22050])\n",
            "tensor(-0.8989)\n"
          ]
        }
      ]
    },
    {
      "cell_type": "markdown",
      "source": [
        "### Model"
      ],
      "metadata": {
        "id": "X5npzekZBe45"
      }
    },
    {
      "cell_type": "code",
      "source": [
        "class MyMod(nn.Module):\n",
        "    def __init__(self, hidden_size=5):\n",
        "        super(MyMod, self).__init__()\n",
        "        self.lstm = torch.nn.LSTM(input_size=input_size, hidden_size=hidden_size, batch_first=True)\n",
        "        self.lin = torch.nn.Linear(hidden_size, output_size)\n",
        "        self.idx = 0\n",
        "          \n",
        "    def forward(self, inp, state):\n",
        "        out, states = self.lstm(inp, state)\n",
        "        \n",
        "        out = self.lin(out)\n",
        "        \n",
        "        hidden_state, cell_state = states\n",
        "\n",
        "        if out.requires_grad:\n",
        "          def get_pr(idx_val):\n",
        "              def pr(*args):\n",
        "                pass\n",
        "                  #print(\"doing backward {}\".format(idx_val))\n",
        "              return pr\n",
        "          hidden_state.register_hook(get_pr(self.idx))\n",
        "          #cell_state.register_hook(get_pr(idx))\n",
        "          out.register_hook(get_pr(self.idx))\n",
        "          #print(\"doing fw {}\".format(self.idx))\n",
        "          self.idx += 1\n",
        "        out += inp # residual connection\n",
        "          \n",
        "        return out, states"
      ],
      "metadata": {
        "id": "ZXeno9fyBgpM"
      },
      "execution_count": 53,
      "outputs": []
    },
    {
      "cell_type": "markdown",
      "source": [
        "### Here we go:"
      ],
      "metadata": {
        "id": "--W_4gB7Bo3l"
      }
    },
    {
      "cell_type": "code",
      "source": [
        "no_grad_steps = 1000\n",
        "k1 = 2000\n",
        "k2 = 2000\n",
        "input_size = 1\n",
        "output_size = 1\n",
        "\n",
        "EPOCHS = 3\n",
        "lstm_blocks = 1\n",
        "hidden_size = 96\n",
        "one_step_module = MyMod(hidden_size)\n",
        "loss_module = combined_loss\n",
        "initial_states = (torch.zeros(1, BATCHSIZE, hidden_size), torch.zeros(1, BATCHSIZE, hidden_size))\n",
        "\n",
        "optimizer = torch.optim.Adam(one_step_module.parameters())\n",
        "\n",
        "train(one_step_module, loss_module, k1, k2, no_grad_steps, optimizer, train_loader, initial_states, EPOCHS)"
      ],
      "metadata": {
        "colab": {
          "base_uri": "https://localhost:8080/"
        },
        "id": "ZFm98g99BkE3",
        "outputId": "a0e0729b-bb2f-4fad-f93a-fbb0b6a7eed5"
      },
      "execution_count": null,
      "outputs": [
        {
          "output_type": "stream",
          "name": "stdout",
          "text": [
            "EPOCH 0\n",
            "TRAINING SEQUENCE 0\n",
            "Backwards step with loss 1.187622308731079\n",
            "Backwards step with loss 1.1622949838638306\n",
            "Backwards step with loss 1.1507800817489624\n",
            "Backwards step with loss 1.1640139818191528\n",
            "Backwards step with loss 1.0737359523773193\n",
            "Backwards step with loss 1.0438851118087769\n",
            "Backwards step with loss 1.0800293684005737\n",
            "Backwards step with loss 1.072708010673523\n",
            "Backwards step with loss 1.066208839416504\n",
            "Backwards step with loss 1.0859105587005615\n",
            "TRAINING SEQUENCE 1\n",
            "Backwards step with loss 1.131580114364624\n",
            "Backwards step with loss 1.1223978996276855\n",
            "Backwards step with loss 1.1521342992782593\n",
            "Backwards step with loss 1.0880857706069946\n",
            "Backwards step with loss 1.0813249349594116\n",
            "Backwards step with loss 1.133497714996338\n",
            "Backwards step with loss 1.1503053903579712\n",
            "Backwards step with loss 1.0998337268829346\n",
            "Backwards step with loss 1.070680856704712\n",
            "Backwards step with loss 1.1273255348205566\n",
            "TRAINING SEQUENCE 2\n",
            "Backwards step with loss 1.1286370754241943\n",
            "Backwards step with loss 1.1639827489852905\n",
            "Backwards step with loss 1.3197976350784302\n",
            "Backwards step with loss 1.30076003074646\n",
            "Backwards step with loss 1.1445903778076172\n",
            "Backwards step with loss 1.0765326023101807\n",
            "Backwards step with loss 1.0863988399505615\n",
            "Backwards step with loss 1.089098334312439\n",
            "Backwards step with loss 1.0423487424850464\n",
            "Backwards step with loss 1.0034700632095337\n",
            "TRAINING SEQUENCE 3\n",
            "Backwards step with loss 0.986687421798706\n",
            "Backwards step with loss 1.0413075685501099\n",
            "Backwards step with loss 1.036873459815979\n",
            "Backwards step with loss 1.0105113983154297\n",
            "Backwards step with loss 0.9978740215301514\n",
            "Backwards step with loss 1.0606707334518433\n",
            "Backwards step with loss 1.0274462699890137\n",
            "Backwards step with loss 1.1771068572998047\n",
            "Backwards step with loss 1.2286171913146973\n",
            "Backwards step with loss 1.2300162315368652\n",
            "TRAINING SEQUENCE 4\n",
            "Backwards step with loss 1.0456558465957642\n",
            "Backwards step with loss 1.025435209274292\n",
            "Backwards step with loss 1.027999758720398\n",
            "Backwards step with loss 1.0281389951705933\n",
            "Backwards step with loss 0.9884127974510193\n",
            "Backwards step with loss 1.0246975421905518\n",
            "Backwards step with loss 1.0029362440109253\n",
            "Backwards step with loss 1.297224521636963\n",
            "Backwards step with loss 1.2285484075546265\n",
            "Backwards step with loss 1.1687195301055908\n",
            "TRAINING SEQUENCE 5\n",
            "Backwards step with loss 0.9920940399169922\n",
            "Backwards step with loss 1.047548770904541\n",
            "Backwards step with loss 1.0203468799591064\n",
            "Backwards step with loss 1.005752444267273\n",
            "Backwards step with loss 0.9555373787879944\n",
            "Backwards step with loss 0.974430501461029\n",
            "Backwards step with loss 1.1053305864334106\n",
            "Backwards step with loss 1.1080293655395508\n",
            "Backwards step with loss 1.0474939346313477\n",
            "Backwards step with loss 1.0287747383117676\n",
            "TRAINING SEQUENCE 6\n",
            "Backwards step with loss 1.0150256156921387\n",
            "Backwards step with loss 0.975105881690979\n",
            "Backwards step with loss 0.9672076106071472\n",
            "Backwards step with loss 0.9673838019371033\n",
            "Backwards step with loss 0.9771417379379272\n",
            "Backwards step with loss 1.0094958543777466\n",
            "Backwards step with loss 0.9996603727340698\n",
            "Backwards step with loss 0.9859400987625122\n",
            "Backwards step with loss 0.9804688692092896\n",
            "Backwards step with loss 0.9751983284950256\n",
            "TRAINING SEQUENCE 7\n",
            "Backwards step with loss 1.0315519571304321\n",
            "Backwards step with loss 1.027822732925415\n",
            "Backwards step with loss 1.0230506658554077\n",
            "Backwards step with loss 1.064421534538269\n",
            "Backwards step with loss 1.0361822843551636\n",
            "Backwards step with loss 1.0680909156799316\n",
            "Backwards step with loss 1.0255986452102661\n",
            "Backwards step with loss 0.9726930260658264\n",
            "Backwards step with loss 0.9829227328300476\n",
            "Backwards step with loss 0.9930117726325989\n",
            "TRAINING SEQUENCE 8\n",
            "Backwards step with loss 0.982799768447876\n",
            "Backwards step with loss 0.9751367568969727\n",
            "Backwards step with loss 0.9684597849845886\n"
          ]
        }
      ]
    },
    {
      "cell_type": "code",
      "source": [
        "with torch.no_grad():\n",
        "  for X_valid, y_valid in valid_loader:\n",
        "    y_hat_valid, _ = one_step_module.forward(X_valid.unsqueeze(-1), initial_states)\n",
        "    break"
      ],
      "metadata": {
        "id": "hC00yoVTNauU"
      },
      "execution_count": 196,
      "outputs": []
    },
    {
      "cell_type": "code",
      "source": [
        "y_hat_valid.squeeze().shape"
      ],
      "metadata": {
        "colab": {
          "base_uri": "https://localhost:8080/"
        },
        "id": "yXa3crMfO7Wh",
        "outputId": "055917ac-7381-4b93-f940-fc93bb57ec6f"
      },
      "execution_count": 197,
      "outputs": [
        {
          "output_type": "execute_result",
          "data": {
            "text/plain": [
              "torch.Size([20, 22050])"
            ]
          },
          "metadata": {},
          "execution_count": 197
        }
      ]
    },
    {
      "cell_type": "code",
      "source": [
        "y_valid.shape"
      ],
      "metadata": {
        "colab": {
          "base_uri": "https://localhost:8080/"
        },
        "id": "M0TezpOxO8W4",
        "outputId": "df209bd6-646e-44ac-bba5-5c4a3ad69568"
      },
      "execution_count": 134,
      "outputs": [
        {
          "output_type": "execute_result",
          "data": {
            "text/plain": [
              "torch.Size([20, 22050])"
            ]
          },
          "metadata": {},
          "execution_count": 134
        }
      ]
    },
    {
      "cell_type": "code",
      "source": [
        "plt.plot(X_valid[0, :].squeeze())"
      ],
      "metadata": {
        "colab": {
          "base_uri": "https://localhost:8080/",
          "height": 282
        },
        "id": "JnXzFSFhguyD",
        "outputId": "e633d071-6ea1-4e82-caca-168e83ae1711"
      },
      "execution_count": 200,
      "outputs": [
        {
          "output_type": "execute_result",
          "data": {
            "text/plain": [
              "[<matplotlib.lines.Line2D at 0x7f66f859d5e0>]"
            ]
          },
          "metadata": {},
          "execution_count": 200
        },
        {
          "output_type": "display_data",
          "data": {
            "text/plain": [
              "<Figure size 432x288 with 1 Axes>"
            ],
            "image/png": "[encoded data removed]"
          },
          "metadata": {
            "needs_background": "light"
          }
        }
      ]
    },
    {
      "cell_type": "code",
      "source": [
        "\n",
        "plt.plot(y_hat_valid[0, :].squeeze())"
      ],
      "metadata": {
        "colab": {
          "base_uri": "https://localhost:8080/",
          "height": 282
        },
        "id": "NsAFG7h4OHqq",
        "outputId": "57c68b19-296e-4ced-db03-11c4c44cd9f6"
      },
      "execution_count": 198,
      "outputs": [
        {
          "output_type": "execute_result",
          "data": {
            "text/plain": [
              "[<matplotlib.lines.Line2D at 0x7f66f90c14c0>]"
            ]
          },
          "metadata": {},
          "execution_count": 198
        },
        {
          "output_type": "display_data",
          "data": {
            "text/plain": [
              "<Figure size 432x288 with 1 Axes>"
            ],
            "image/png": "[encoded data removed]"
          },
          "metadata": {
            "needs_background": "light"
          }
        }
      ]
    },
    {
      "cell_type": "code",
      "source": [
        "plt.plot(y_valid[0, :].squeeze())"
      ],
      "metadata": {
        "colab": {
          "base_uri": "https://localhost:8080/",
          "height": 285
        },
        "id": "qtXWowswOfzR",
        "outputId": "bd0d34b1-0361-49b0-b5a4-c9af660c48ec"
      },
      "execution_count": 199,
      "outputs": [
        {
          "output_type": "execute_result",
          "data": {
            "text/plain": [
              "[<matplotlib.lines.Line2D at 0x7f66f8d060d0>]"
            ]
          },
          "metadata": {},
          "execution_count": 199
        },
        {
          "output_type": "display_data",
          "data": {
            "text/plain": [
              "<Figure size 432x288 with 1 Axes>"
            ],
            "image/png": "[encoded data removed]"
          },
          "metadata": {
            "needs_background": "light"
          }
        }
      ]
    },
    {
      "cell_type": "code",
      "source": [
        "combined_loss(y_valid.unsqueeze(1)[:, :, :2000], y_hat_valid.squeeze().unsqueeze(1)[:, :, :2000])"
      ],
      "metadata": {
        "colab": {
          "base_uri": "https://localhost:8080/"
        },
        "id": "27ydqOupO4-6",
        "outputId": "8c050539-203d-4c53-e455-0f66c67889c2"
      },
      "execution_count": 188,
      "outputs": [
        {
          "output_type": "stream",
          "name": "stdout",
          "text": [
            "SHAPES OF Y_HAT : torch.Size([20, 1, 2000]) Y : torch.Size([20, 1, 2000])\n"
          ]
        },
        {
          "output_type": "execute_result",
          "data": {
            "text/plain": [
              "tensor(1.1365, grad_fn=<AddBackward0>)"
            ]
          },
          "metadata": {},
          "execution_count": 188
        }
      ]
    },
    {
      "cell_type": "code",
      "source": [],
      "metadata": {
        "id": "1h1vSJjrYyOd"
      },
      "execution_count": null,
      "outputs": []
    },
    {
      "cell_type": "code",
      "source": [
        "from IPython.display import Audio"
      ],
      "metadata": {
        "id": "1TDWD6l6V-WB"
      },
      "execution_count": 185,
      "outputs": []
    },
    {
      "cell_type": "code",
      "source": [
        "Audio(data=y_valid[0, :].squeeze(), rate=44100)"
      ],
      "metadata": {
        "colab": {
          "base_uri": "https://localhost:8080/",
          "height": 75
        },
        "id": "b_qRUvhkWEwn",
        "outputId": "ea718741-ddab-4b86-ef9b-76fe6b1c7fec"
      },
      "execution_count": 206,
      "outputs": [
        {
          "output_type": "execute_result",
          "data": {
            "text/plain": [
              "<IPython.lib.display.Audio object>"
            ],
            "text/html": [
              "\n",
              "                <audio  controls=\"controls\" >\n",
              "                    <source src=\"data:audio/wav;base64,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\" type=\"audio/wav\" />\n",
              "                    Your browser does not support the audio element.\n",
              "                </audio>\n",
              "              "
            ]
          },
          "metadata": {},
          "execution_count": 206
        }
      ]
    }
  ]
}